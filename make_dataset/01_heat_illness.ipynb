{
 "cells": [
  {
   "cell_type": "markdown",
   "id": "b64ae499-6afc-48bd-a57f-6a5f64fa4105",
   "metadata": {},
   "source": [
    "## Make the dataframe including the number of patients of heat illness for the each years and regions\n",
    "- Date : Mar 17, 2023\n",
    "- Author : JaeEun Yoo"
   ]
  },
  {
   "cell_type": "code",
   "execution_count": 1,
   "id": "f634fd22-6f8f-4309-bf58-97d453fb9cde",
   "metadata": {},
   "outputs": [],
   "source": [
    "import os\n",
    "import glob\n",
    "import pandas as pd\n",
    "import shutil\n",
    "from itertools import repeat"
   ]
  },
  {
   "cell_type": "code",
   "execution_count": 2,
   "id": "9b4776fb-d9de-4d1b-bfa6-e8e74e1916e2",
   "metadata": {},
   "outputs": [],
   "source": [
    "root_path = '../샘플데이터/01. 온열질환자수/'\n",
    "data_1521 = root_path+'2015_2021.xlsx'\n",
    "data_22 = root_path+'20220930.xlsx'"
   ]
  },
  {
   "cell_type": "markdown",
   "id": "264711fa-1ef7-485e-a5f1-c36bdcf1beab",
   "metadata": {},
   "source": [
    "# 2015 ~ 2020"
   ]
  },
  {
   "cell_type": "code",
   "execution_count": 3,
   "id": "e13a6aa9-ea7d-4d0b-8f31-376d9d948356",
   "metadata": {},
   "outputs": [],
   "source": [
    "data = pd.read_excel(data_1521,sheet_name = None)\n",
    "sheet_names = [k for k in data.keys()]\n",
    "columns_list = ['Date','Region','온열질환자(명)','사망자(명)']"
   ]
  },
  {
   "cell_type": "code",
   "execution_count": 4,
   "id": "d9dbe5e2-3154-48fd-a1e3-22e602c67ac8",
   "metadata": {
    "tags": []
   },
   "outputs": [],
   "source": [
    "for sheet in sheet_names[:-1]:\n",
    "    # Read excel with the sheet name\n",
    "    data_2015 = pd.read_excel(data_1521,sheet_name=sheet,header=[0,1],index_col=None)\n",
    "    \n",
    "    # Make the list of regions\n",
    "    regions = []\n",
    "    for d in data_2015.keys()[1:]:\n",
    "        regions.append(d[0])\n",
    "    regions = list(set(regions))\n",
    "    regions.sort()\n",
    "    \n",
    "    # Init the dataframe\n",
    "    res = pd.DataFrame()\n",
    "    regions_val = ['서울특별시','인천광역시','강원도','경상남도','경상북도',\n",
    "              '전라남도','전라북도','충청남도','충청북도','경기도',\n",
    "              '세종특별자치시','제주특별자치도','대전광역시','대구광역시','울산광역시','광주광역시','부산광역시']\n",
    "    regions_val.sort()\n",
    "    regions_dict = [{k : v} for k,v in zip(regions, regions_val)]\n",
    "    # Make the heat dataframe per year\n",
    "    for r in regions_dict:\n",
    "        region = pd.DataFrame(data=list(repeat(r.values(),len(data_2015))),columns=['Region']).reset_index(drop=True)\n",
    "        results = pd.concat([data_2015['일자'].reset_index(drop=True),region,\n",
    "                             data_2015[r.keys()].reset_index(drop=True)],axis=1).reset_index(drop=True)\n",
    "\n",
    "        results.columns = columns_list\n",
    "        results = results.fillna(0)\n",
    "        res = pd.concat([res,results])\n",
    "\n",
    "    res = res.reset_index(drop=True)\n",
    "\n",
    "    \n",
    "    res.to_csv('../results_data/01_온열질환자수_'+sheet+'.csv',index=False,encoding='cp949')\n",
    "    \n"
   ]
  },
  {
   "cell_type": "markdown",
   "id": "ba8966a5-a8d7-4892-a967-67ea604dc55f",
   "metadata": {},
   "source": [
    "# 2021"
   ]
  },
  {
   "cell_type": "code",
   "execution_count": 5,
   "id": "3da227fb-3f10-4dc2-bb33-8efebddbf1f5",
   "metadata": {},
   "outputs": [],
   "source": [
    "data = pd.read_excel(data_1521,sheet_name = None)\n",
    "sheet_names = [k for k in data.keys()]\n",
    "columns_list = ['Date','Region','온열질환자(명)','사망자(명)']"
   ]
  },
  {
   "cell_type": "code",
   "execution_count": 6,
   "id": "34ff18ee-5276-47ab-b3b4-46f2b227cb9b",
   "metadata": {
    "tags": []
   },
   "outputs": [],
   "source": [
    "for sheet in sheet_names[-1:]:\n",
    "    # Read excel with the sheet name\n",
    "    data = pd.read_excel(data_1521,sheet_name=sheet,header=[0,1],index_col=None)\n",
    "    \n",
    "    # Make the list of regions\n",
    "    regions = ['서울특별시','인천광역시','강원도','경상남도','경상북도',\n",
    "              '전라남도','전라북도','충청남도','충청북도','경기도',\n",
    "              '세종특별자치시','제주특별자치도','대전광역시','대구광역시','울산광역시','광주광역시','부산광역시']\n",
    "    regions.sort()\n",
    "    \n",
    "    # Init the dataframe\n",
    "    res = pd.DataFrame()\n",
    "    \n",
    "    # Make the heat dataframe per year\n",
    "    for r in regions:\n",
    "        \n",
    "        region = pd.DataFrame(data=list(repeat(r,len(data)-1)),columns=['Region']).reset_index(drop=True)\n",
    "        \n",
    "        \n",
    "        # Starting with index '1' for removing '합계'\n",
    "        results = pd.concat([data['Unnamed: 0_level_0'][1:].reset_index(drop=True), region,\n",
    "                             data[r][1:].reset_index(drop=True)],axis=1).reset_index(drop=True)\n",
    "        \n",
    "        results = results.fillna(0)\n",
    "        # Rename the columns\n",
    "        results.columns = columns_list\n",
    "        res = pd.concat([res,results])\n",
    "\n",
    "\n",
    "    res = res.reset_index(drop=True)\n",
    "\n",
    "    \n",
    "    res.to_csv('../results_data/01_온열질환자수_'+sheet+'도.csv',index=False,encoding='cp949')\n",
    "    \n"
   ]
  },
  {
   "cell_type": "markdown",
   "id": "12b33722-b814-4fc8-b507-1da333a15c33",
   "metadata": {},
   "source": [
    "# 2022"
   ]
  },
  {
   "cell_type": "code",
   "execution_count": 7,
   "id": "af0f91f2-8d95-4516-ab45-094e9ed16cc9",
   "metadata": {},
   "outputs": [],
   "source": [
    "data = pd.read_excel(data_22,sheet_name = None)\n",
    "len(data)\n",
    "sheet_names = [k for k in data.keys()]\n",
    "regions = sheet_names[2:]\n",
    "regions.sort()\n",
    "columns_list = ['Date','Region','온열질환자(명)','사망자(명)']"
   ]
  },
  {
   "cell_type": "code",
   "execution_count": 8,
   "id": "35576281-3a53-4223-bfda-8323724d7b8d",
   "metadata": {},
   "outputs": [],
   "source": [
    "# Init the dataframe\n",
    "res = pd.DataFrame()\n",
    "\n",
    "for r in regions:\n",
    "    # Read excel with the sheet name\n",
    "    data = pd.read_excel(data_22,sheet_name=r,header=[0,1],index_col=None)\n",
    "\n",
    "    # Starting with index '1' for removing '합계'\n",
    "    region = pd.DataFrame(data=list(repeat(r,len(data)-1)),columns=['Region']).reset_index(drop=True)\n",
    "    results = pd.concat([data['Unnamed: 0_level_0'][1:].reset_index(drop=True),\n",
    "                         region, \n",
    "                         data['합계'][1:].reset_index(drop=True),],axis=1).reset_index(drop=True)\n",
    "\n",
    "    # results = pd.concat([results,region],axis=1)\n",
    "    results = results.fillna(0)\n",
    "    # Rename the columns\n",
    "    results.columns = columns_list\n",
    "    res = pd.concat([res,results])\n",
    "\n",
    "res = res.reset_index(drop=True)\n",
    "\n",
    "\n",
    "res.to_csv('../results_data/01_온열질환자수_2022년도.csv',index=False,encoding='cp949')\n"
   ]
  },
  {
   "cell_type": "code",
   "execution_count": null,
   "id": "50508d29-3df1-40f8-8c96-dbd30077aca7",
   "metadata": {},
   "outputs": [],
   "source": []
  }
 ],
 "metadata": {
  "kernelspec": {
   "display_name": "Python 3 (ipykernel)",
   "language": "python",
   "name": "python3"
  },
  "language_info": {
   "codemirror_mode": {
    "name": "ipython",
    "version": 3
   },
   "file_extension": ".py",
   "mimetype": "text/x-python",
   "name": "python",
   "nbconvert_exporter": "python",
   "pygments_lexer": "ipython3",
   "version": "3.8.6"
  }
 },
 "nbformat": 4,
 "nbformat_minor": 5
}
