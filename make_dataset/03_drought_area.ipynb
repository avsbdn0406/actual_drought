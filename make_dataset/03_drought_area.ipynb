{
 "cells": [
  {
   "cell_type": "markdown",
   "id": "fc830238-baf1-465b-b7f7-22345b5d3380",
   "metadata": {
    "tags": []
   },
   "source": [
    "## Make the dataframe including the drought area for the each years and regions\n",
    "- Date : Mar 20, 2023\n",
    "- Author : JaeEun Yoo"
   ]
  },
  {
   "cell_type": "code",
   "execution_count": 1,
   "id": "3d05bf23-8b42-49e7-9b93-617274eaac80",
   "metadata": {},
   "outputs": [],
   "source": [
    "import os\n",
    "import glob\n",
    "import pandas as pd\n",
    "import shutil\n",
    "import re"
   ]
  },
  {
   "cell_type": "code",
   "execution_count": 6,
   "id": "f6e8fe16-c45c-4a7c-a0e3-d785cfc52e43",
   "metadata": {},
   "outputs": [],
   "source": [
    "root_path = '../샘플데이터/03. 통계청-가뭄피해면적/'\n",
    "file_list = glob.glob(root_path+'/*')\n",
    "file_list.sort()"
   ]
  },
  {
   "cell_type": "code",
   "execution_count": 7,
   "id": "d78fa0bb-827e-4607-924f-58c460b90b29",
   "metadata": {},
   "outputs": [
    {
     "data": {
      "text/plain": [
       "['../샘플데이터/03. 통계청-가뭄피해면적/가뭄정보통계(피해 결과표2021).xlsx',\n",
       " '../샘플데이터/03. 통계청-가뭄피해면적/통계청)가뭄정보통계(피해 결과표2018).xlsx',\n",
       " '../샘플데이터/03. 통계청-가뭄피해면적/통계청)가뭄정보통계(피해 결과표2019).xlsx',\n",
       " '../샘플데이터/03. 통계청-가뭄피해면적/통계청)가뭄정보통계(피해 결과표2020).xlsx']"
      ]
     },
     "execution_count": 7,
     "metadata": {},
     "output_type": "execute_result"
    }
   ],
   "source": [
    "file_list"
   ]
  },
  {
   "cell_type": "code",
   "execution_count": 206,
   "id": "da5ce9b2-1901-4559-b2e5-3b5576c9bf37",
   "metadata": {},
   "outputs": [],
   "source": [
    "year = '2018'\n",
    "columns_list = ['Si','SiGunGu','Paddy_StartDate','Paddy_EndDate','Paddy_drght',\n",
    "                'Field_StartDate','Field_EndDate','Field_drght']"
   ]
  },
  {
   "cell_type": "code",
   "execution_count": 207,
   "id": "9899638b-3dfb-40aa-b933-13a1115e3f80",
   "metadata": {},
   "outputs": [
    {
     "data": {
      "text/plain": [
       "['2. 피해']"
      ]
     },
     "execution_count": 207,
     "metadata": {},
     "output_type": "execute_result"
    }
   ],
   "source": [
    "# Get the sheet names\n",
    "data = pd.read_excel(file_list[1],header=3,sheet_name=None)\n",
    "sheet_names = [k for k in data.keys()]\n",
    "sheet_names"
   ]
  },
  {
   "cell_type": "code",
   "execution_count": 237,
   "id": "7b1d5742-4c67-43f1-ae06-61ec4cbef51c",
   "metadata": {},
   "outputs": [],
   "source": [
    "data = pd.read_excel(file_list[1],header=6,sheet_name=sheet_names[0])\n",
    "df = data[data.keys()[1:3]]\n",
    "df = pd.concat([df,data[data.keys()[20:]].reset_index(drop=True)],axis=1)\n",
    "# 2021 : 354\n",
    "# 2020 : 254\n",
    "# 2018 : 272\n",
    "df = df[2:272]\n",
    "del df['전체 논 재배면적 (ha)']\n",
    "del df['전체 밭 재배면적 (ha)']\n",
    "df = df.reset_index(drop=True)"
   ]
  },
  {
   "cell_type": "code",
   "execution_count": 238,
   "id": "47b5d504-b5b6-4b9c-92c1-1a63183c4877",
   "metadata": {},
   "outputs": [],
   "source": [
    "df.columns = columns_list"
   ]
  },
  {
   "cell_type": "code",
   "execution_count": 234,
   "id": "02b0e0ac-7052-4fe2-b2aa-576932a7ffa8",
   "metadata": {
    "tags": []
   },
   "outputs": [],
   "source": [
    "si = ''\n",
    "for d in range(len(df)):\n",
    "    # Remove the 'SUMS'\n",
    "    if df['SiGunGu'][d] == '소계':\n",
    "        df['Si'][d+1] = df['Si'][d]\n",
    "    # Fill the 'Si' field\n",
    "    elif pd.isna(df['Si'][d]):\n",
    "        df['Si'][d] = df['Si'][d-1]\n",
    "df = df.fillna('-')\n",
    "\n",
    "sogye = df[df['SiGunGu'].str.contains('소계')].index\n",
    "df = df.drop(sogye)\n",
    "\n",
    "df.to_csv('../results_data/03_가뭄피해면적_'+year+'.csv',index=False,encoding='cp949')"
   ]
  },
  {
   "cell_type": "code",
   "execution_count": null,
   "id": "ed918be4-dd00-40b6-804c-0734693c1e0d",
   "metadata": {},
   "outputs": [],
   "source": []
  },
  {
   "cell_type": "code",
   "execution_count": null,
   "id": "c82e26bf-2c10-4bce-be9f-e84f9ba1f1f5",
   "metadata": {},
   "outputs": [],
   "source": []
  }
 ],
 "metadata": {
  "kernelspec": {
   "display_name": "Python 3 (ipykernel)",
   "language": "python",
   "name": "python3"
  },
  "language_info": {
   "codemirror_mode": {
    "name": "ipython",
    "version": 3
   },
   "file_extension": ".py",
   "mimetype": "text/x-python",
   "name": "python",
   "nbconvert_exporter": "python",
   "pygments_lexer": "ipython3",
   "version": "3.8.6"
  }
 },
 "nbformat": 4,
 "nbformat_minor": 5
}
