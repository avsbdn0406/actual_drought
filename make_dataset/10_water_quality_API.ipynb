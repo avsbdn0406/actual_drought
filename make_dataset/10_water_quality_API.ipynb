{
 "cells": [
  {
   "cell_type": "markdown",
   "id": "b6e766e0-dc76-42c4-8d3f-0b2e684c00ba",
   "metadata": {
    "tags": []
   },
   "source": [
    "## Make the dataframe including the percentage(%) of soil moisture for the each years and regions\n",
    "- Date : Mar 22, 2023\n",
    "- Author : JaeEun Yoo"
   ]
  },
  {
   "cell_type": "code",
   "execution_count": 1,
   "id": "d80059d1-a4a7-4748-9e3e-03b42a10209e",
   "metadata": {},
   "outputs": [],
   "source": [
    "import os\n",
    "import glob\n",
    "import requests\n",
    "import json\n",
    "import pandas as pd\n",
    "from urllib.request import urlopen\n",
    "from itertools import repeat\n",
    "import xmltodict"
   ]
  },
  {
   "cell_type": "code",
   "execution_count": 2,
   "id": "4a768408-3dc9-46e4-826e-85cd6d4786d7",
   "metadata": {},
   "outputs": [],
   "source": [
    "regions = pd.read_excel('../샘플데이터/10. 물환경정보시스템_수질측정망/지역코드명.xlsx',header=1)"
   ]
  },
  {
   "cell_type": "code",
   "execution_count": 3,
   "id": "f10375e1-9040-4323-959b-2e855c2ea38e",
   "metadata": {
    "tags": []
   },
   "outputs": [],
   "source": [
    "region_code = regions['지점코드'].to_list()"
   ]
  },
  {
   "cell_type": "code",
   "execution_count": 10,
   "id": "9842574f-b694-471c-aa14-8a02a4fea56d",
   "metadata": {
    "tags": []
   },
   "outputs": [],
   "source": [
    "API_URL = 'http://apis.data.go.kr/1480523/WaterQualityService/getWaterMeasuringList'\n",
    "YEAR = '2022'\n",
    "MONTHS= [str(x).zfill(2) for x in range(1,3,1)]\n",
    "API_KEY = '87r4QXW2oQcxjpXLQp6hKQe4aaKIme68yP2zGcxZuCWzDmobzuNxoBYvA5meOw5NMy7J%2FM8c%2F1fWtPdBFfWjZg%3D%3D'\n"
   ]
  },
  {
   "cell_type": "code",
   "execution_count": 14,
   "id": "49d6e6ff-a272-43a1-b7e8-61700d4047e8",
   "metadata": {},
   "outputs": [
    {
     "data": {
      "text/plain": [
       "\"'1001A05', '1001A10', '1001A15'\""
      ]
     },
     "execution_count": 14,
     "metadata": {},
     "output_type": "execute_result"
    }
   ],
   "source": [
    "str(region_code[:3])[1:-1]"
   ]
  },
  {
   "cell_type": "code",
   "execution_count": 17,
   "id": "b3957ab6-b7a7-46be-8e53-123815cb9cea",
   "metadata": {},
   "outputs": [
    {
     "data": {
      "text/plain": [
       "'02'"
      ]
     },
     "execution_count": 17,
     "metadata": {},
     "output_type": "execute_result"
    }
   ],
   "source": [
    "m"
   ]
  },
  {
   "cell_type": "code",
   "execution_count": 18,
   "id": "acb6a6e9-220c-44e9-9160-f8c140c5e362",
   "metadata": {
    "tags": []
   },
   "outputs": [
    {
     "name": "stdout",
     "output_type": "stream",
     "text": [
      "<Response [200]>\n",
      "{'OpenAPI_ServiceResponse': {'cmmMsgHeader': {'errMsg': 'SERVICE ERROR', 'returnAuthMsg': 'SERVICE_KEY_IS_NOT_REGISTERED_ERROR', 'returnReasonCode': '30'}}}\n",
      "<Response [200]>\n",
      "{'OpenAPI_ServiceResponse': {'cmmMsgHeader': {'errMsg': 'SERVICE ERROR', 'returnAuthMsg': 'SERVICE_KEY_IS_NOT_REGISTERED_ERROR', 'returnReasonCode': '30'}}}\n"
     ]
    }
   ],
   "source": [
    "# res = pd.DataFrame(columns=column_list)\n",
    "\n",
    "for m in MONTHS:\n",
    "        params ={'serviceKey' : API_KEY, \n",
    "                 'pageNo' : '1', \n",
    "                 'numOfRows' : '10',\n",
    "                 'resultType' : 'XML',\n",
    "                 'ptNoList' : '3008A40,2012F50',\n",
    "                'wmyrList' : '2012,2013',\n",
    "                'wmodList' : '01,02,03'}\n",
    "        \n",
    "        response = requests.get(API_URL, params=params)\n",
    "        print(response)\n",
    "        # Check the status code\n",
    "\n",
    "        # XML to DICT\n",
    "        xmlToDict = xmltodict.parse(response.text)\n",
    "\n",
    "        # DICT to JSON\n",
    "        df_dict = json.loads(json.dumps(xmlToDict)) \n",
    "        print(df_dict)\n",
    "        # print(df_dict['response']['header'])\n",
    "        # if 'result_Code' in df_dict['response']['header']:\n",
    "        #     if df_dict['response']['header']['result_Code'] =='200' and df_dict['response']['body']['items'] is not None:\n",
    "        #         for item in df_dict['response']['body']['items']['item']:\n",
    "        #             tmp_res= pd.DataFrame(item,index=[0])\n",
    "        #             tmp_res = tmp_res.reindex(columns=res_cols)\n",
    "        #             tmp_res.columns = column_list\n",
    "        #             res = pd.concat([res,tmp_res])\n",
    "        #     else:\n",
    "        #         print(df_dict['response']['body']['items'])\n"
   ]
  },
  {
   "cell_type": "code",
   "execution_count": 12,
   "id": "97750a5e-0856-40e2-9431-600d8369ec52",
   "metadata": {},
   "outputs": [
    {
     "data": {
      "text/plain": [
       "{'OpenAPI_ServiceResponse': {'cmmMsgHeader': {'errMsg': 'SERVICE ERROR',\n",
       "   'returnAuthMsg': 'SERVICE_KEY_IS_NOT_REGISTERED_ERROR',\n",
       "   'returnReasonCode': '30'}}}"
      ]
     },
     "execution_count": 12,
     "metadata": {},
     "output_type": "execute_result"
    }
   ],
   "source": [
    "df_dict"
   ]
  },
  {
   "cell_type": "code",
   "execution_count": 7,
   "id": "1fe7ea34-74c5-474c-a767-d5ea7edb6604",
   "metadata": {},
   "outputs": [
    {
     "data": {
      "text/plain": [
       "{'OpenAPI_ServiceResponse': {'cmmMsgHeader': {'errMsg': 'SERVICE ERROR',\n",
       "   'returnAuthMsg': 'SERVICE_KEY_IS_NOT_REGISTERED_ERROR',\n",
       "   'returnReasonCode': '30'}}}"
      ]
     },
     "execution_count": 7,
     "metadata": {},
     "output_type": "execute_result"
    }
   ],
   "source": [
    "df_dict"
   ]
  },
  {
   "cell_type": "code",
   "execution_count": 14,
   "id": "cecb11c2-910d-492b-83a6-a516aa9b8698",
   "metadata": {},
   "outputs": [],
   "source": [
    "res = res.reset_index(drop=True)"
   ]
  },
  {
   "cell_type": "code",
   "execution_count": 16,
   "id": "34dff266-88a3-46c9-b951-3e621620446e",
   "metadata": {},
   "outputs": [],
   "source": [
    "del res['index']"
   ]
  },
  {
   "cell_type": "code",
   "execution_count": 19,
   "id": "ad3280bb-609d-4220-9d58-7bd549896987",
   "metadata": {},
   "outputs": [],
   "source": [
    "res.to_csv('../results_data/06_토양수분.csv',encoding='cp949',index=False)"
   ]
  },
  {
   "cell_type": "code",
   "execution_count": null,
   "id": "be65a1aa-584e-419e-8c03-8553d5e611e8",
   "metadata": {},
   "outputs": [],
   "source": []
  }
 ],
 "metadata": {
  "kernelspec": {
   "display_name": "Python 3 (ipykernel)",
   "language": "python",
   "name": "python3"
  },
  "language_info": {
   "codemirror_mode": {
    "name": "ipython",
    "version": 3
   },
   "file_extension": ".py",
   "mimetype": "text/x-python",
   "name": "python",
   "nbconvert_exporter": "python",
   "pygments_lexer": "ipython3",
   "version": "3.8.6"
  }
 },
 "nbformat": 4,
 "nbformat_minor": 5
}
