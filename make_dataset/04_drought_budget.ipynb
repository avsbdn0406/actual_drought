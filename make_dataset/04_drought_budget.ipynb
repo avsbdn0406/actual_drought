{
 "cells": [
  {
   "cell_type": "markdown",
   "id": "90c5fc98-5bd5-4196-8c35-3e7f3d9b0e64",
   "metadata": {
    "tags": []
   },
   "source": [
    "## Make the dataframe including the drought measure budget for the each years and regions\n",
    "- Date : Mar 21, 2023\n",
    "- Author : JaeEun Yoo"
   ]
  },
  {
   "cell_type": "code",
   "execution_count": 1,
   "id": "95a513a4-ef70-45ec-9f5b-4d3c87d88025",
   "metadata": {},
   "outputs": [],
   "source": [
    "import os\n",
    "import glob\n",
    "import pandas as pd\n",
    "import shutil\n",
    "import re"
   ]
  },
  {
   "cell_type": "code",
   "execution_count": 31,
   "id": "d4126d32-63fc-4eca-bb63-55aff690931f",
   "metadata": {},
   "outputs": [],
   "source": [
    "org_df = pd.read_excel('../샘플데이터/04. 가뭄정보포털_가뭄피해금액/2018_2020.xlsx',header=1)"
   ]
  },
  {
   "cell_type": "code",
   "execution_count": 32,
   "id": "e53176fc-f7a5-406e-8546-7f2189edfc30",
   "metadata": {},
   "outputs": [],
   "source": [
    "regions = ['서울특별시','인천광역시','강원도','경상남도','경상북도',\n",
    "              '전라남도','전라북도','충청남도','충청북도','경기도',\n",
    "              '세종특별자치시','제주특별자치도','대전광역시','대구광역시','울산광역시','광주광역시','부산광역시']"
   ]
  },
  {
   "cell_type": "code",
   "execution_count": 33,
   "id": "4faa1023-fe71-4c0b-84f0-14c5a741f2c7",
   "metadata": {
    "tags": []
   },
   "outputs": [],
   "source": [
    "tmp = pd.DataFrame()\n",
    "for r in regions:\n",
    "    tmp = pd.concat([tmp,org_df[org_df['행정구역별']==r]])\n",
    "    # Remove the 'SUM'\n",
    "    sum_idx = tmp[tmp['월별'].str.contains('합계')].index\n",
    "    tmp.drop(sum_idx, inplace=True)\n",
    "tmp= tmp.reset_index(drop=True)"
   ]
  },
  {
   "cell_type": "code",
   "execution_count": 109,
   "id": "2b72cc2e-6523-4308-9539-98ab701cab03",
   "metadata": {},
   "outputs": [],
   "source": [
    "columns_list = ['행정구역별','기관별','연도','월별','항목','단위','대책비']"
   ]
  },
  {
   "cell_type": "code",
   "execution_count": 110,
   "id": "eb738a87-31ae-4f76-bd10-27dc280afbef",
   "metadata": {},
   "outputs": [],
   "source": [
    "year_list = ['2018 년', '2019 년', '2020 년']"
   ]
  },
  {
   "cell_type": "code",
   "execution_count": 114,
   "id": "40739887-1d0a-44a1-9133-43ab7d910516",
   "metadata": {},
   "outputs": [],
   "source": [
    "res = pd.DataFrame(columns=columns_list)\n",
    "year_list = ['2018 년', '2019 년', '2020 년']\n",
    "\n",
    "for i in range(len(tmp)):\n",
    "    # Year\n",
    "    for y in year_list:\n",
    "        tmp_col = tmp.iloc[i]\n",
    "        tmp_col['대책비'] = tmp_col[y]\n",
    "        tmp_col['연도'] = y\n",
    "        tmp_col = pd.DataFrame(tmp_col)\n",
    "        res = pd.concat([res,tmp_col.T[columns_list]])\n",
    "res = res.reset_index(drop=True)"
   ]
  },
  {
   "cell_type": "code",
   "execution_count": 119,
   "id": "00663cfe-7976-49e3-96b7-97344510198f",
   "metadata": {},
   "outputs": [],
   "source": [
    "res.to_csv('../results_data/04_가뭄대책비지원_2018_2020.csv',index=False,encoding='cp949')\n",
    "\n",
    "\n"
   ]
  },
  {
   "cell_type": "code",
   "execution_count": null,
   "id": "59277bc3-70f2-4dac-b08e-83a3a35226cd",
   "metadata": {},
   "outputs": [],
   "source": []
  }
 ],
 "metadata": {
  "kernelspec": {
   "display_name": "Python 3 (ipykernel)",
   "language": "python",
   "name": "python3"
  },
  "language_info": {
   "codemirror_mode": {
    "name": "ipython",
    "version": 3
   },
   "file_extension": ".py",
   "mimetype": "text/x-python",
   "name": "python",
   "nbconvert_exporter": "python",
   "pygments_lexer": "ipython3",
   "version": "3.8.6"
  }
 },
 "nbformat": 4,
 "nbformat_minor": 5
}
